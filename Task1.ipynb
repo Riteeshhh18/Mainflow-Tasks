{
  "metadata": {
    "kernelspec": {
      "name": "python",
      "display_name": "Python (Pyodide)",
      "language": "python"
    },
    "language_info": {
      "codemirror_mode": {
        "name": "python",
        "version": 3
      },
      "file_extension": ".py",
      "mimetype": "text/x-python",
      "name": "python",
      "nbconvert_exporter": "python",
      "pygments_lexer": "ipython3",
      "version": "3.8"
    }
  },
  "nbformat_minor": 5,
  "nbformat": 4,
  "cells": [
    {
      "id": "a772b102-d77a-4a99-8771-2dde9ac11810",
      "cell_type": "code",
      "source": "#list creation \nlist1 = [1,3,4,5,6]\nprint(\"Starting List:-\",list1)\n\nlist1.append(7)\nprint(\"List after adding a number: \",list1)\n\nlist1.remove(3)\nprint(\"List after removing a number: \",list1)\n\nlist1[2] = 40\nprint(\"List after modifying: \",list1)\n",
      "metadata": {
        "trusted": true
      },
      "outputs": [
        {
          "name": "stdout",
          "text": "Starting List:- [1, 3, 4, 5, 6]\nList after adding a number:  [1, 3, 4, 5, 6, 7]\nList after removing a number:  [1, 4, 5, 6, 7]\nList after modifying:  [1, 4, 40, 6, 7]\n",
          "output_type": "stream"
        }
      ],
      "execution_count": 4
    },
    {
      "id": "ae95dc6e-5e35-44ca-9d55-586ac5657179",
      "cell_type": "code",
      "source": "my_dict = {\"name\": \"John\",\"age\": 25,\"city\": \"New York\"}\nprint(\"Staritng Dict :\",my_dict)\n\n# Adding\nmy_dict[\"occupation\"] = \"Engineer\"\nprint(\"After adding an element:\", my_dict)\n\n# Removing \nremoved_element = my_dict.pop(\"age\")\nprint(\"After removing an element:\", my_dict)\n\n\n# Modifying\nmy_dict[\"city\"] = \"Los Angeles\"\nprint(\"After modifying an element:\", my_dict)",
      "metadata": {
        "trusted": true
      },
      "outputs": [
        {
          "name": "stdout",
          "text": "Staritng Dict : {'name': 'John', 'age': 25, 'city': 'New York'}\nAfter adding an element: {'name': 'John', 'age': 25, 'city': 'New York', 'occupation': 'Engineer'}\nAfter removing an element: {'name': 'John', 'city': 'New York', 'occupation': 'Engineer'}\nAfter modifying an element: {'name': 'John', 'city': 'Los Angeles', 'occupation': 'Engineer'}\n",
          "output_type": "stream"
        }
      ],
      "execution_count": 7
    },
    {
      "id": "e118fa7f-bf20-4234-91fe-466ed0fdf077",
      "cell_type": "code",
      "source": "my_set = {1, 2, 3, 4, 5}\nprint(\"Starting set : \",my_set)\n\n# Adding an element\nmy_set.add(6)\nprint(\"After adding an element:\", my_set)\n\n# Removing an element\nmy_set.remove(3)  # Removes 3; raises KeyError if not found\nprint(\"After removing an element:\", my_set)\n\n# Modifying an element\nmy_set.remove(4)\nmy_set.add(7)\nprint(\"After modifying an element:\", my_set)\n",
      "metadata": {
        "trusted": true
      },
      "outputs": [
        {
          "name": "stdout",
          "text": "Starting set :  {1, 2, 3, 4, 5}\nAfter adding an element: {1, 2, 3, 4, 5, 6}\nAfter removing an element: {1, 2, 4, 5, 6}\nAfter modifying an element: {1, 2, 5, 6, 7}\n",
          "output_type": "stream"
        }
      ],
      "execution_count": 9
    },
    {
      "id": "3cbb898a-23e8-44e6-b785-eaef87caf405",
      "cell_type": "code",
      "source": "",
      "metadata": {
        "trusted": true
      },
      "outputs": [],
      "execution_count": null
    }
  ]
}